{
 "cells": [
  {
   "cell_type": "markdown",
   "metadata": {},
   "source": [
    "## LESSON 4 - INTRO TO NLP"
   ]
  },
  {
   "cell_type": "markdown",
   "metadata": {},
   "source": [
    "#### COUNTING WORDS"
   ]
  },
  {
   "cell_type": "code",
   "execution_count": 38,
   "metadata": {},
   "outputs": [],
   "source": [
    "import re\n",
    "from collections import Counter\n",
    "\n",
    "def count_words(text):\n",
    "    \"\"\"Count how many times each unique word occurs in text.\"\"\"\n",
    "    # counts = dict()  # dictionary of { <word>: <count> } pairs to return\n",
    "    \n",
    "    text_lower = text.lower()\n",
    "    \n",
    "    # TODO: Split text into tokens (words), leaving out punctuation\n",
    "    # (Hint: Use regex to split on non-alphanumeric characters)\n",
    "    text_split = list(filter(None, re.split('[^(a-zA-Z)]+', text_lower)))\n",
    "    \n",
    "    # TODO: Aggregate word counts using a dictionary\n",
    "    counts = dict(Counter(text_split))\n",
    "    \n",
    "    return counts"
   ]
  },
  {
   "cell_type": "code",
   "execution_count": 19,
   "metadata": {},
   "outputs": [],
   "source": [
    "sample = \"As I was waiting, a man came out of a side room, and at a glance I was sure he must be Long John. His left leg was cut off close by the hip, and under the left shoulder he carried a crutch, which he managed with wonderful dexterity, hopping about upon it like a bird. He was very tall and strong, with a face as big as a ham—plain and pale, but intelligent and smiling. Indeed, he seemed in the most cheerful spirits, whistling as he moved about among the tables, with a merry word or a slap on the shoulder for the more favoured of his guests.\""
   ]
  },
  {
   "cell_type": "code",
   "execution_count": 20,
   "metadata": {},
   "outputs": [
    {
     "data": {
      "text/plain": [
       "'As I was waiting, a man came out of a side room, and at a glance I was sure he must be Long John. His left leg was cut off close by the hip, and under the left shoulder he carried a crutch, which he managed with wonderful dexterity, hopping about upon it like a bird. He was very tall and strong, with a face as big as a ham—plain and pale, but intelligent and smiling. Indeed, he seemed in the most cheerful spirits, whistling as he moved about among the tables, with a merry word or a slap on the shoulder for the more favoured of his guests.'"
      ]
     },
     "execution_count": 20,
     "metadata": {},
     "output_type": "execute_result"
    }
   ],
   "source": [
    "sample"
   ]
  },
  {
   "cell_type": "code",
   "execution_count": 21,
   "metadata": {},
   "outputs": [],
   "source": [
    "sample_lower = sample.lower()"
   ]
  },
  {
   "cell_type": "code",
   "execution_count": 22,
   "metadata": {},
   "outputs": [
    {
     "data": {
      "text/plain": [
       "'as i was waiting, a man came out of a side room, and at a glance i was sure he must be long john. his left leg was cut off close by the hip, and under the left shoulder he carried a crutch, which he managed with wonderful dexterity, hopping about upon it like a bird. he was very tall and strong, with a face as big as a ham—plain and pale, but intelligent and smiling. indeed, he seemed in the most cheerful spirits, whistling as he moved about among the tables, with a merry word or a slap on the shoulder for the more favoured of his guests.'"
      ]
     },
     "execution_count": 22,
     "metadata": {},
     "output_type": "execute_result"
    }
   ],
   "source": [
    "sample_lower"
   ]
  },
  {
   "cell_type": "code",
   "execution_count": 23,
   "metadata": {},
   "outputs": [],
   "source": [
    "import re"
   ]
  },
  {
   "cell_type": "code",
   "execution_count": 24,
   "metadata": {},
   "outputs": [],
   "source": [
    "sample_split = list(filter(None, re.split('[^(a-zA-Z)]+', sample_lower)))"
   ]
  },
  {
   "cell_type": "code",
   "execution_count": 25,
   "metadata": {},
   "outputs": [],
   "source": [
    "from collections import Counter"
   ]
  },
  {
   "cell_type": "code",
   "execution_count": 26,
   "metadata": {
    "collapsed": true,
    "jupyter": {
     "outputs_hidden": true
    }
   },
   "outputs": [
    {
     "data": {
      "text/plain": [
       "{'as': 4,\n",
       " 'i': 2,\n",
       " 'was': 4,\n",
       " 'waiting': 1,\n",
       " 'a': 9,\n",
       " 'man': 1,\n",
       " 'came': 1,\n",
       " 'out': 1,\n",
       " 'of': 2,\n",
       " 'side': 1,\n",
       " 'room': 1,\n",
       " 'and': 5,\n",
       " 'at': 1,\n",
       " 'glance': 1,\n",
       " 'sure': 1,\n",
       " 'he': 6,\n",
       " 'must': 1,\n",
       " 'be': 1,\n",
       " 'long': 1,\n",
       " 'john': 1,\n",
       " 'his': 2,\n",
       " 'left': 2,\n",
       " 'leg': 1,\n",
       " 'cut': 1,\n",
       " 'off': 1,\n",
       " 'close': 1,\n",
       " 'by': 1,\n",
       " 'the': 6,\n",
       " 'hip': 1,\n",
       " 'under': 1,\n",
       " 'shoulder': 2,\n",
       " 'carried': 1,\n",
       " 'crutch': 1,\n",
       " 'which': 1,\n",
       " 'managed': 1,\n",
       " 'with': 3,\n",
       " 'wonderful': 1,\n",
       " 'dexterity': 1,\n",
       " 'hopping': 1,\n",
       " 'about': 2,\n",
       " 'upon': 1,\n",
       " 'it': 1,\n",
       " 'like': 1,\n",
       " 'bird': 1,\n",
       " 'very': 1,\n",
       " 'tall': 1,\n",
       " 'strong': 1,\n",
       " 'face': 1,\n",
       " 'big': 1,\n",
       " 'ham': 1,\n",
       " 'plain': 1,\n",
       " 'pale': 1,\n",
       " 'but': 1,\n",
       " 'intelligent': 1,\n",
       " 'smiling': 1,\n",
       " 'indeed': 1,\n",
       " 'seemed': 1,\n",
       " 'in': 1,\n",
       " 'most': 1,\n",
       " 'cheerful': 1,\n",
       " 'spirits': 1,\n",
       " 'whistling': 1,\n",
       " 'moved': 1,\n",
       " 'among': 1,\n",
       " 'tables': 1,\n",
       " 'merry': 1,\n",
       " 'word': 1,\n",
       " 'or': 1,\n",
       " 'slap': 1,\n",
       " 'on': 1,\n",
       " 'for': 1,\n",
       " 'more': 1,\n",
       " 'favoured': 1,\n",
       " 'guests': 1,\n",
       " '': 1}"
      ]
     },
     "execution_count": 26,
     "metadata": {},
     "output_type": "execute_result"
    }
   ],
   "source": [
    "dict(Counter(sample_split))"
   ]
  },
  {
   "cell_type": "markdown",
   "metadata": {},
   "source": [
    "#### LESSON 7 - CLEANING"
   ]
  },
  {
   "cell_type": "code",
   "execution_count": 1,
   "metadata": {},
   "outputs": [],
   "source": [
    "import requests"
   ]
  },
  {
   "cell_type": "code",
   "execution_count": 2,
   "metadata": {},
   "outputs": [
    {
     "name": "stdout",
     "output_type": "stream",
     "text": [
      "<!DOCTYPE html><html><head>\n",
      "  <meta charset=\"utf-8\">\n",
      "  <script type=\"text/javascript\" class=\"ng-star-inserted\">window.NREUM||(NREUM={}),__nr_require=function(t,n,e){function r(e){if(!n[e]){var o=n[e]={exports:{}};t[e][0].call(o.exports,function(n){var o=t[e][1][n];return r(o||n)},o,o.exports)}return n[e].exports}if(\"function\"==typeof __nr_require)return __nr_require;for(var o=0;o<e.length;o++)r(e[o]);return r}({1:[function(t,n,e){function r(t){try{s.console&&console.log(t)}catch(n){}}var o,i=t(\"ee\"),a=t(18),s={};try{o=localStorage.getItem(\"__nr_flags\").split(\",\"),console&&\"function\"==typeof console.log&&(s.console=!0,o.indexOf(\"dev\")!==-1&&(s.dev=!0),o.indexOf(\"nr_dev\")!==-1&&(s.nrDev=!0))}catch(c){}s.nrDev&&i.on(\"internal-error\",function(t){r(t.stack)}),s.dev&&i.on(\"fn-err\",function(t,n,e){r(e.stack)}),s.dev&&(r(\"NR AGENT IN DEVELOPMENT MODE\"),r(\"flags: \"+a(s,function(t,n){return t}).join(\", \")))},{}],2:[function(t,n,e){function r(t,n,e,r,s){try{p?p-=1:o(s||new UncaughtException(t,n,e\n"
     ]
    }
   ],
   "source": [
    "# fetch a web page\n",
    "r = requests.get(\"https://www.udacity.com/courses/all\")\n",
    "print(r.text[:1000])"
   ]
  },
  {
   "cell_type": "code",
   "execution_count": 3,
   "metadata": {},
   "outputs": [
    {
     "name": "stdout",
     "output_type": "stream",
     "text": [
      "\n",
      "  \n",
      "  window.NREUM||(NREUM={}),__nr_require=function(t,n,e){function r(e){if(!n[e]){var o=n[e]={exports:{}};t[e][0].call(o.exports,function(n){var o=t[e][1][n];return r(o||n)},o,o.exports)}return n[e].exports}if(\"function\"==typeof __nr_require)return __nr_require;for(var o=0;o<e.length;o++)r(e[o]);return r}({1:[function(t,n,e){function r(t){try{s.console&&console.log(t)}catch(n){}}var o,i=t(\"ee\"),a=t(18),s={};try{o=localStorage.getItem(\"__nr_flags\").split(\",\"),console&&\"function\"==typeof console.log&&(s.console=!0,o.indexOf(\"dev\")!==-1&&(s.dev=!0),o.indexOf(\"nr_dev\")!==-1&&(s.nrDev=!0))}catch(c){}s.nrDev&&i.on(\"internal-error\",function(t){r(t.stack)}),s.dev&&i.on(\"fn-err\",function(t,n,e){r(e.stack)}),s.dev&&(r(\"NR AGENT IN DEVELOPMENT MODE\"),r(\"flags: \"+a(s,function(t,n){return t}).join(\", \")))},{}],2:[function(t,n,e){function r(t,n,e,r,s){try{p?p-=1:o(s||new UncaughtException(t,n,e\n"
     ]
    }
   ],
   "source": [
    "import re\n",
    "\n",
    "# remove HTML tags using RegEx\n",
    "pattern = re.compile(r'<.*?>') # tags look like <...>\n",
    "print(pattern.sub('', r.text[:1000]))"
   ]
  },
  {
   "cell_type": "code",
   "execution_count": 4,
   "metadata": {},
   "outputs": [],
   "source": [
    "from bs4 import BeautifulSoup"
   ]
  },
  {
   "cell_type": "code",
   "execution_count": 5,
   "metadata": {},
   "outputs": [
    {
     "name": "stdout",
     "output_type": "stream",
     "text": [
      "\n",
      "  \n",
      "  window.NREUM||(NREUM={}),__nr_require=function(t,n,e){function r(e){if(!n[e]){var o=n[e]={exports:{}};t[e][0].call(o.exports,function(n){var o=t[e][1][n];return r(o||n)},o,o.exports)}return n[e].exports}if(\"function\"==typeof __nr_require)return __nr_require;for(var o=0;o<e.length;o++)r(e[o]);return r}({1:[function(t,n,e){function r(t){try{s.console&&console.log(t)}catch(n){}}var o,i=t(\"ee\"),a=t(18),s={};try{o=localStorage.getItem(\"__nr_flags\").split(\",\"),console&&\"function\"==typeof console.log&&(s.console=!0,o.indexOf(\"dev\")!==-1&&(s.dev=!0),o.indexOf(\"nr_dev\")!==-1&&(s.nrDev=!0))}catch(c){}s.nrDev&&i.on(\"internal-error\",function(t){r(t.stack)}),s.dev&&i.on(\"fn-err\",function(t,n,e){r(e.stack)}),s.dev&&(r(\"NR AGENT IN DEVELOPMENT MODE\"),r(\"flags: \"+a(s,function(t,n){return t}).join(\", \")))},{}],2:[function(t,n,e){function r(t,n,e,r,s){try{p?p-=1:o(s||new UncaughtException(t,n,e),!0)}catch(f){try{i(\"ierr\",[f,c.now(),!0])}catch(d){}}return\"function\"==typeof u&&u.apply(this,a(argumen\n"
     ]
    }
   ],
   "source": [
    "soup = BeautifulSoup(r.text, \"html5lib\")\n",
    "print(soup.get_text()[:1000])"
   ]
  },
  {
   "cell_type": "code",
   "execution_count": 6,
   "metadata": {},
   "outputs": [
    {
     "data": {
      "text/plain": [
       "<div _ngcontent-sc213=\"\" class=\"course-summary-card row row-gap-medium catalog-card nanodegree-card ng-star-inserted\"><ir-catalog-card _ngcontent-sc213=\"\" _nghost-sc216=\"\"><div _ngcontent-sc216=\"\" class=\"card-wrapper is-collapsed\"><div _ngcontent-sc216=\"\" class=\"card__inner card mb-0\"><div _ngcontent-sc216=\"\" class=\"card__inner--upper\"><div _ngcontent-sc216=\"\" class=\"image_wrapper hidden-md-down\"><a _ngcontent-sc216=\"\" href=\"/course/intro-to-machine-learning-with-tensorflow-nanodegree--nd230\"><!----><div _ngcontent-sc216=\"\" class=\"image-container ng-star-inserted\" style=\"background-image:url(https://d20vrrgs8k4bvw.cloudfront.net/images/degrees/nd229/nd-card.jpg);\"><div _ngcontent-sc216=\"\" class=\"image-overlay\"></div></div></a><!----></div><div _ngcontent-sc216=\"\" class=\"card-content\"><!----><span _ngcontent-sc216=\"\" class=\"tag tag--new card ng-star-inserted\">New</span><!----><div _ngcontent-sc216=\"\" class=\"category-wrapper\"><span _ngcontent-sc216=\"\" class=\"mobile-icon\"></span><!----><h4 _ngcontent-sc216=\"\" class=\"category ng-star-inserted\"> School of Artificial Intelligence </h4></div><h3 _ngcontent-sc216=\"\" class=\"card-heading\"><a _ngcontent-sc216=\"\" class=\"capitalize\" href=\"/course/intro-to-machine-learning-with-tensorflow-nanodegree--nd230\">Intro to Machine Learning with TensorFlow</a></h3><div _ngcontent-sc216=\"\" class=\"right-sub\"><!----><div _ngcontent-sc216=\"\" class=\"skills ng-star-inserted\"><h4 _ngcontent-sc216=\"\">Skills Covered</h4><span _ngcontent-sc216=\"\" class=\"truncate-content\"><!----><span _ngcontent-sc216=\"\" class=\"ng-star-inserted\">TensorFlow, </span><span _ngcontent-sc216=\"\" class=\"ng-star-inserted\">Deep Learning, </span><span _ngcontent-sc216=\"\" class=\"ng-star-inserted\">scikit-learn, </span><span _ngcontent-sc216=\"\" class=\"ng-star-inserted\">Supervised Learning, </span><span _ngcontent-sc216=\"\" class=\"ng-star-inserted\">Unsupervised Learning</span></span></div><!----><div _ngcontent-sc216=\"\" class=\"hidden-sm-down ng-star-inserted\"><h4 _ngcontent-sc216=\"\"> In Collaboration With </h4><span _ngcontent-sc216=\"\" class=\"truncate-content\"><!----><span _ngcontent-sc216=\"\" class=\"ng-star-inserted\">Kaggle, </span><span _ngcontent-sc216=\"\" class=\"ng-star-inserted\">AWS</span></span></div><div _ngcontent-sc216=\"\" class=\"hidden-md-up level\"><span _ngcontent-sc216=\"\" class=\"course-level course-level-beginner\" classname=\"course-level course-level-beginner\"></span><span _ngcontent-sc216=\"\" class=\"capitalize\">beginner</span></div></div></div></div><div _ngcontent-sc216=\"\" class=\"card__inner--lower hidden-sm-down\"><div _ngcontent-sc216=\"\" class=\"left uppercase blue expander pointer\"><!----><span _ngcontent-sc216=\"\" class=\"ng-star-inserted\">Nanodegree Details</span><!----></div><div _ngcontent-sc216=\"\" class=\"right\"><!----><span _ngcontent-sc216=\"\" class=\"caption text-right level ng-star-inserted\"><span _ngcontent-sc216=\"\" class=\"course-level course-level-beginner\" classname=\"course-level course-level-beginner\"></span><span _ngcontent-sc216=\"\" class=\"capitalize\">beginner</span></span></div></div></div><div _ngcontent-sc216=\"\" class=\"card__expander\"><div _ngcontent-sc216=\"\" class=\"card__expander--summary mb-1\"><!----><span _ngcontent-sc216=\"\" class=\"ng-star-inserted\">Build a solid foundation in Supervised, Unsupervised, and Deep Learning. Then, use these skills to test and deploy machine learning models in a production environment.</span></div><hr _ngcontent-sc216=\"\"/><div _ngcontent-sc216=\"\" class=\"card__expander--details\"><div _ngcontent-sc216=\"\" class=\"rating\"><!----></div><a _ngcontent-sc216=\"\" class=\"button--primary btn\" href=\"/course/intro-to-machine-learning-with-tensorflow-nanodegree--nd230\">Learn More</a></div></div></div></ir-catalog-card><!----></div>"
      ]
     },
     "execution_count": 6,
     "metadata": {},
     "output_type": "execute_result"
    }
   ],
   "source": [
    "# find all course summaries\n",
    "summaries = soup.find_all('div', class_=\"course-summary-card\")\n",
    "summaries[0]"
   ]
  },
  {
   "cell_type": "code",
   "execution_count": 7,
   "metadata": {},
   "outputs": [
    {
     "data": {
      "text/plain": [
       "'Intro to Machine Learning with TensorFlow'"
      ]
     },
     "execution_count": 7,
     "metadata": {},
     "output_type": "execute_result"
    }
   ],
   "source": [
    "# extract title\n",
    "summaries[0].select_one(\"h3 a\").get_text().strip()"
   ]
  },
  {
   "cell_type": "code",
   "execution_count": null,
   "metadata": {},
   "outputs": [],
   "source": [
    "# extract description\n",
    "summaries[0].select_one(\"div[data-course-short-summary]\").get_text().strip()"
   ]
  },
  {
   "cell_type": "code",
   "execution_count": null,
   "metadata": {},
   "outputs": [],
   "source": [
    "# find all course summaries, exctract title and description\n",
    "courses = []\n",
    "summaries = soup.find_all(\"div\", class_=\"course-summary-card\")\n",
    "for summary in summaries:\n",
    "    title = summary.select_one(\"h3 a\").get_text().strip()\n",
    "    print(\"***\", title, \"***\")\n",
    "    print(description)\n",
    "    courses.append((title, description))\n",
    "\n",
    "print(len(courses), \"course summaries found. Sample:\")\n",
    "print(courses[0][0])\n",
    "print(courses[0][1])"
   ]
  }
 ],
 "metadata": {
  "kernelspec": {
   "display_name": "Python 3",
   "language": "python",
   "name": "python3"
  },
  "language_info": {
   "codemirror_mode": {
    "name": "ipython",
    "version": 3
   },
   "file_extension": ".py",
   "mimetype": "text/x-python",
   "name": "python",
   "nbconvert_exporter": "python",
   "pygments_lexer": "ipython3",
   "version": "3.7.6"
  }
 },
 "nbformat": 4,
 "nbformat_minor": 4
}
